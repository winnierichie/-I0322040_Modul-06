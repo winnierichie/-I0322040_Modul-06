{
 "cells": [
  {
   "attachments": {},
   "cell_type": "markdown",
   "metadata": {},
   "source": [
    "Bagian-bagian Fungsi"
   ]
  },
  {
   "cell_type": "code",
   "execution_count": 1,
   "metadata": {},
   "outputs": [],
   "source": [
    "def function_name(argumen):\n",
    "    # badan fungsi\n",
    "\n",
    "    return"
   ]
  },
  {
   "attachments": {},
   "cell_type": "markdown",
   "metadata": {},
   "source": [
    "Membuat dan Memanggil Fungsi"
   ]
  },
  {
   "cell_type": "code",
   "execution_count": 2,
   "metadata": {},
   "outputs": [],
   "source": [
    "def salam():\n",
    "    print(\"Halo Praktikan!\")"
   ]
  },
  {
   "cell_type": "code",
   "execution_count": 3,
   "metadata": {},
   "outputs": [
    {
     "name": "stdout",
     "output_type": "stream",
     "text": [
      "Halo Praktikan!\n"
     ]
    }
   ],
   "source": [
    "def salam():\n",
    "    print(\"Halo Praktikan!\")\n",
    "\n",
    "# memanggil fungsi\n",
    "salam()"
   ]
  },
  {
   "cell_type": "code",
   "execution_count": 4,
   "metadata": {},
   "outputs": [
    {
     "name": "stdout",
     "output_type": "stream",
     "text": [
      "Hello World!\n",
      "Ada di luar fungsi\n"
     ]
    }
   ],
   "source": [
    "def greet():\n",
    "    print('Hello World!')\n",
    "\n",
    "# memanggil fungsi\n",
    "greet()\n",
    "\n",
    "print('Ada di luar fungsi')"
   ]
  },
  {
   "attachments": {},
   "cell_type": "markdown",
   "metadata": {},
   "source": [
    "Default Argument"
   ]
  },
  {
   "cell_type": "code",
   "execution_count": 5,
   "metadata": {},
   "outputs": [
    {
     "data": {
      "text/plain": [
       "' \\n\\ndef fungsi(argument):\\ndef fungsi(argument = nilai defaultnya): \\n\\n'"
      ]
     },
     "execution_count": 5,
     "metadata": {},
     "output_type": "execute_result"
    }
   ],
   "source": [
    "# Bentuk syntax\n",
    "''' \n",
    "\n",
    "def fungsi(argument):\n",
    "def fungsi(argument = nilai defaultnya): \n",
    "\n",
    "'''"
   ]
  },
  {
   "cell_type": "code",
   "execution_count": 6,
   "metadata": {},
   "outputs": [
    {
     "name": "stdout",
     "output_type": "stream",
     "text": [
      "Sum:  9\n"
     ]
    }
   ],
   "source": [
    "# Contoh keseluruhan\n",
    "def add_numbers(num1, num2):\n",
    "    sum = num1 + num2\n",
    "    print(\"Sum: \",sum)\n",
    "\n",
    "add_numbers(5, 4)\n",
    "\n"
   ]
  },
  {
   "cell_type": "code",
   "execution_count": 7,
   "metadata": {},
   "outputs": [
    {
     "name": "stdout",
     "output_type": "stream",
     "text": [
      "Hallo Cakep\n",
      "Hallo Ganteng\n"
     ]
    }
   ],
   "source": [
    "# Contoh 1\n",
    "def say_hello(nama = \"Ganteng\"):\n",
    "    '''fungsi dengan default argument'''\n",
    "    print(f\"Hallo {nama}\")\n",
    "\n",
    "say_hello(\"Cakep\")\n",
    "say_hello()"
   ]
  },
  {
   "cell_type": "code",
   "execution_count": 9,
   "metadata": {},
   "outputs": [
    {
     "name": "stdout",
     "output_type": "stream",
     "text": [
      "Hai Ucup, kamu Ganteeeng\n",
      "Hai Kamu, Apa kabar?\n"
     ]
    }
   ],
   "source": [
    "# Contoh 2\n",
    "def sapa_dia(nama, pesan = \"Apa kabar?\"):\n",
    "    '''fungsi dengan satu input biasa, \n",
    "    dan satu default argument'''\n",
    "    print(f\"Hai {nama}, {pesan}\")\n",
    "\n",
    "sapa_dia(\"Ucup\",\"kamu Ganteeeng\")\n",
    "sapa_dia(\"Kamu\")"
   ]
  },
  {
   "cell_type": "code",
   "execution_count": 10,
   "metadata": {},
   "outputs": [
    {
     "name": "stdout",
     "output_type": "stream",
     "text": [
      "16\n",
      "125\n"
     ]
    }
   ],
   "source": [
    "# Contoh 3\n",
    "def hitung_pangkat(angka, pangkat=2):\n",
    "    hasil = angka**pangkat\n",
    "    return hasil\n",
    "\n",
    "print(hitung_pangkat(2,4))\n",
    "\n",
    "hasil = hitung_pangkat(pangkat=3, angka=5)\n",
    "print(hasil)"
   ]
  },
  {
   "cell_type": "code",
   "execution_count": 11,
   "metadata": {},
   "outputs": [
    {
     "name": "stdout",
     "output_type": "stream",
     "text": [
      "10\n",
      "17\n"
     ]
    }
   ],
   "source": [
    "# Contoh 4\n",
    "def fungsi(input1=1,input2=2,input3=3,input4=4):\n",
    "    hasil = input1 + input2 + input3 + input4\n",
    "    return hasil\n",
    "\n",
    "print(fungsi())\n",
    "print(fungsi(input3=10))"
   ]
  },
  {
   "attachments": {},
   "cell_type": "markdown",
   "metadata": {},
   "source": [
    "Keyword / Named Argument"
   ]
  },
  {
   "cell_type": "code",
   "execution_count": 12,
   "metadata": {},
   "outputs": [
    {
     "name": "stdout",
     "output_type": "stream",
     "text": [
      "POSI 2020\n",
      "POSI 2020\n"
     ]
    }
   ],
   "source": [
    "def student(firstname, lastname):\n",
    "    print(firstname, lastname)\n",
    "\n",
    "# Keyword arguments\n",
    "student(firstname='POSI', lastname='2020')\n",
    "student(lastname='2020', firstname='POSI')"
   ]
  },
  {
   "attachments": {},
   "cell_type": "markdown",
   "metadata": {},
   "source": [
    "Positional Argument"
   ]
  },
  {
   "cell_type": "code",
   "execution_count": 13,
   "metadata": {},
   "outputs": [
    {
     "name": "stdout",
     "output_type": "stream",
     "text": [
      "Case-1:\n",
      "Hi, Saya Andeca\n",
      "Umur saya adalah 27\n",
      "\n",
      "Case-2:\n",
      "Hi, Saya 27\n",
      "Umur saya adalah Andeca\n"
     ]
    }
   ],
   "source": [
    "def identitas(nama, umur):\n",
    "    print(\"Hi, Saya\", nama)\n",
    "    print(\"Umur saya adalah\", umur)\n",
    " \n",
    "# Hasilnya adalah benar karena urutannya benar\n",
    "print(\"Case-1:\")\n",
    "identitas(\"Andeca\", 27)\n",
    "\n",
    "# Bandingkan dengan yang ke dua ini \n",
    "print(\"\\nCase-2:\")\n",
    "identitas(27, \"Andeca\")"
   ]
  },
  {
   "attachments": {},
   "cell_type": "markdown",
   "metadata": {},
   "source": [
    "*args"
   ]
  },
  {
   "cell_type": "code",
   "execution_count": 15,
   "metadata": {},
   "outputs": [
    {
     "name": "stdout",
     "output_type": "stream",
     "text": [
      "hasil = 50\n"
     ]
    }
   ],
   "source": [
    "def tambah(*data):\n",
    "    # data tipenya adalah tuple\n",
    "    output = 0\n",
    "    for angka in data:\n",
    "        output += angka\n",
    "    return output\n",
    "hasil = tambah(10,5,15,20)\n",
    "print(f\"hasil = {hasil}\")"
   ]
  },
  {
   "attachments": {},
   "cell_type": "markdown",
   "metadata": {},
   "source": [
    "**kargs"
   ]
  },
  {
   "cell_type": "code",
   "execution_count": 16,
   "metadata": {},
   "outputs": [
    {
     "name": "stdout",
     "output_type": "stream",
     "text": [
      "{'nama': 'Aji', 'alamat': 'Cirebon'}\n",
      "{'nama': 'Hani', 'alamat': 'Bogor'}\n"
     ]
    }
   ],
   "source": [
    "#membuat fungsi cetak dengan argumen *kwargs\n",
    "def cetak(**mahasiswa):\n",
    "    print(mahasiswa)\n",
    "    \n",
    "#memanggil fungsi cetak   \n",
    "cetak(nama=\"Aji\", alamat=\"Cirebon\")\n",
    "cetak(nama=\"Hani\", alamat=\"Bogor\")"
   ]
  },
  {
   "attachments": {},
   "cell_type": "markdown",
   "metadata": {},
   "source": [
    "Fungsi Return Value"
   ]
  },
  {
   "cell_type": "code",
   "execution_count": 17,
   "metadata": {},
   "outputs": [
    {
     "name": "stdout",
     "output_type": "stream",
     "text": [
      "Square: 9\n"
     ]
    }
   ],
   "source": [
    "def find_square(num):\n",
    "    result = num * num\n",
    "    return result\n",
    "\n",
    "square = find_square(3)\n",
    "\n",
    "print('Square:',square)\n",
    "\n",
    "# Output = Square: 9"
   ]
  },
  {
   "attachments": {},
   "cell_type": "markdown",
   "metadata": {},
   "source": [
    "List pada Fungsi"
   ]
  },
  {
   "cell_type": "code",
   "execution_count": 18,
   "metadata": {},
   "outputs": [
    {
     "name": "stdout",
     "output_type": "stream",
     "text": [
      "apple\n",
      "banana\n",
      "cherry\n"
     ]
    }
   ],
   "source": [
    "def my_function(food):\n",
    "  for x in food:\n",
    "    print(x)\n",
    "\n",
    "fruits = [\"apple\", \"banana\", \"cherry\"]\n",
    "\n",
    "my_function(fruits)"
   ]
  },
  {
   "attachments": {},
   "cell_type": "markdown",
   "metadata": {},
   "source": [
    "Rekursi Faktorial"
   ]
  },
  {
   "cell_type": "code",
   "execution_count": 19,
   "metadata": {},
   "outputs": [
    {
     "name": "stdout",
     "output_type": "stream",
     "text": [
      "5! = 120\n"
     ]
    }
   ],
   "source": [
    "def faktorial(a):\n",
    "   if a == 1:\n",
    "      return (a)\n",
    "   else:\n",
    "      return (a*faktorial(a-1))\n",
    "\n",
    "bil = int(input(\"Masukan Bilangan : \"))\n",
    "\n",
    "print(\"%d! = %d\" % (bil, faktorial(bil)))"
   ]
  },
  {
   "attachments": {},
   "cell_type": "markdown",
   "metadata": {},
   "source": [
    "Fungsi ascii()"
   ]
  },
  {
   "cell_type": "code",
   "execution_count": 20,
   "metadata": {},
   "outputs": [
    {
     "name": "stdout",
     "output_type": "stream",
     "text": [
      "'Aku mau makan nih'\n",
      "'\\u0202ku ma\\u0216 ma\\u020an y\\u04e7y\\u04e7'\n"
     ]
    }
   ],
   "source": [
    "teks = 'Aku mau makan nih'\n",
    "print(ascii(teks))\n",
    "\n",
    "teks_alay = 'Ȃku maȖ maȊn yӧyӧ'\n",
    "print(ascii(teks_alay))"
   ]
  },
  {
   "attachments": {},
   "cell_type": "markdown",
   "metadata": {},
   "source": [
    "Fungsi chr() dan ord()"
   ]
  },
  {
   "cell_type": "code",
   "execution_count": 22,
   "metadata": {},
   "outputs": [
    {
     "name": "stdout",
     "output_type": "stream",
     "text": [
      "78\n",
      "<class 'int'>\n",
      "N\n",
      "<class 'str'>\n",
      "78\n",
      "<class 'int'>\n"
     ]
    }
   ],
   "source": [
    "integer = 78\n",
    "print(integer)\n",
    "print(type(integer))\n",
    "\n",
    "ubah = chr(integer)\n",
    "print(ubah)\n",
    "print(type(ubah))\n",
    "\n",
    "kembali = ord(ubah)\n",
    "print(kembali)\n",
    "print(type(kembali))"
   ]
  },
  {
   "attachments": {},
   "cell_type": "markdown",
   "metadata": {},
   "source": [
    "Fungsi bytes()"
   ]
  },
  {
   "cell_type": "code",
   "execution_count": 24,
   "metadata": {},
   "outputs": [
    {
     "name": "stdout",
     "output_type": "stream",
     "text": [
      "b''\n",
      "b'\\x00\\x00\\x00\\x00\\x00'\n",
      "<class 'bytes'>\n",
      "b'\\x02\\x03\\x04\\x06'\n",
      "b'\\x03\\x02\\x01j'\n"
     ]
    }
   ],
   "source": [
    "y = bytes()\n",
    "print(y)\n",
    "\n",
    "x = bytes(5)\n",
    "print(x)\n",
    "print(type(x))\n",
    "\n",
    "list = bytes([2,3,4,6])\n",
    "print(list)\n",
    "\n",
    "angka_besar = bytes([3,2,1,106])\n",
    "print(angka_besar)"
   ]
  },
  {
   "attachments": {},
   "cell_type": "markdown",
   "metadata": {},
   "source": [
    "Fungsi min() dan max()"
   ]
  },
  {
   "cell_type": "code",
   "execution_count": 25,
   "metadata": {},
   "outputs": [
    {
     "name": "stdout",
     "output_type": "stream",
     "text": [
      "Nilai maksimal adalah: 42\n",
      "Nilai minimal adalah: 3\n"
     ]
    }
   ],
   "source": [
    "list = [3,4,7,11,18,29,42]\n",
    "print(f'Nilai maksimal adalah: {max(list)}')\n",
    "print(f'Nilai minimal adalah: {min(list)}')"
   ]
  },
  {
   "attachments": {},
   "cell_type": "markdown",
   "metadata": {},
   "source": [
    "Fungsi type()"
   ]
  },
  {
   "cell_type": "code",
   "execution_count": 26,
   "metadata": {},
   "outputs": [
    {
     "name": "stdout",
     "output_type": "stream",
     "text": [
      "Tipe data dari variabel \"list\" adalah: <class 'list'>\n"
     ]
    }
   ],
   "source": [
    "print(f'Tipe data dari variabel \"list\" adalah: {type(list)}')"
   ]
  },
  {
   "attachments": {},
   "cell_type": "markdown",
   "metadata": {},
   "source": [
    "Fungsi len()"
   ]
  },
  {
   "cell_type": "code",
   "execution_count": 27,
   "metadata": {},
   "outputs": [
    {
     "name": "stdout",
     "output_type": "stream",
     "text": [
      "panjang list adalah: 7\n"
     ]
    }
   ],
   "source": [
    "angka = [3,4,7,11,18,29,42]\n",
    "print(f'panjang list adalah: {len(angka)}')"
   ]
  }
 ],
 "metadata": {
  "kernelspec": {
   "display_name": "Python 3",
   "language": "python",
   "name": "python3"
  },
  "language_info": {
   "codemirror_mode": {
    "name": "ipython",
    "version": 3
   },
   "file_extension": ".py",
   "mimetype": "text/x-python",
   "name": "python",
   "nbconvert_exporter": "python",
   "pygments_lexer": "ipython3",
   "version": "3.11.2"
  },
  "orig_nbformat": 4
 },
 "nbformat": 4,
 "nbformat_minor": 2
}
