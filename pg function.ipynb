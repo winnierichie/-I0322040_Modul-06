{
 "cells": [
  {
   "attachments": {
    "image.png": {
     "image/png": "[encoded data removed]"
    }
   },
   "cell_type": "markdown",
   "metadata": {},
   "source": [
    "Tulis program fungsi yang menghitung Volume dari Bola\n",
    "\n",
    "![image.png](attachment:image.png)"
   ]
  },
  {
   "cell_type": "code",
   "execution_count": 1,
   "metadata": {},
   "outputs": [
    {
     "data": {
      "text/plain": [
       "33.51466666666666"
      ]
     },
     "execution_count": 1,
     "metadata": {},
     "output_type": "execute_result"
    }
   ],
   "source": [
    "def vol(jarijari):\n",
    "    return 4/3 * 3.142 * jarijari ** 3 \\\n",
    "\n",
    "vol(2)"
   ]
  },
  {
   "attachments": {},
   "cell_type": "markdown",
   "metadata": {},
   "source": [
    "Buat fungsi sederhana untuk mengecek nilai tersebut ganjil atau genap"
   ]
  },
  {
   "cell_type": "code",
   "execution_count": 2,
   "metadata": {},
   "outputs": [
    {
     "name": "stdout",
     "output_type": "stream",
     "text": [
      "genap\n",
      "ganjil\n"
     ]
    }
   ],
   "source": [
    "def ganjilgenap(x):\n",
    "    if (x % 2 == 0):\n",
    "        print(\"genap\")\n",
    "    else:\n",
    "        print(\"ganjil\")\n",
    "        \n",
    "ganjilgenap(2)\n",
    "ganjilgenap(3)"
   ]
  },
  {
   "attachments": {},
   "cell_type": "markdown",
   "metadata": {},
   "source": [
    "Tulis program fungsi untuk menghitung perkalian dan penjumlahan dari dua angka"
   ]
  },
  {
   "cell_type": "code",
   "execution_count": 3,
   "metadata": {},
   "outputs": [
    {
     "name": "stdout",
     "output_type": "stream",
     "text": [
      "Hasil kali 5 dan 7 adalah 35 sedangkan hasil tambah 5 dan 7 adalah 12\n"
     ]
    }
   ],
   "source": [
    "def kali_tambah(a,b):\n",
    "    print(\"Hasil kali\", a, \"dan\", b, \"adalah\", a*b, \"sedangkan hasil tambah\",a,  \"dan\", b, \"adalah\", a+b)\n",
    "kali_tambah(5,7)"
   ]
  },
  {
   "attachments": {},
   "cell_type": "markdown",
   "metadata": {},
   "source": [
    "Tulis program fungsi untuk mengalikan semua angka yang ada di list"
   ]
  },
  {
   "cell_type": "code",
   "execution_count": 4,
   "metadata": {},
   "outputs": [
    {
     "name": "stdout",
     "output_type": "stream",
     "text": [
      "-336\n"
     ]
    }
   ],
   "source": [
    "def kali(angka):  \n",
    "    total = 1\n",
    "    for x in angka:\n",
    "        total *= x  \n",
    "    return total  \n",
    "print(kali((8, 2, 3, -1, 7)))"
   ]
  },
  {
   "attachments": {},
   "cell_type": "markdown",
   "metadata": {},
   "source": [
    "Tulis program fungsi untuk menjumlahkan semua angka yang ada di list"
   ]
  },
  {
   "cell_type": "code",
   "execution_count": 5,
   "metadata": {},
   "outputs": [
    {
     "name": "stdout",
     "output_type": "stream",
     "text": [
      "20\n"
     ]
    }
   ],
   "source": [
    "def jumlah(angka):\n",
    "    total = 0\n",
    "    for x in angka:\n",
    "        total += x\n",
    "    return total\n",
    "print(jumlah((8, 2, 3, 0, 7)))"
   ]
  },
  {
   "attachments": {},
   "cell_type": "markdown",
   "metadata": {},
   "source": [
    "Tulis program fungsi untuk menghitung future_value dengan argumen/parameter yaitu present_value, bunga_tahunan dan tahun. "
   ]
  },
  {
   "cell_type": "code",
   "execution_count": 6,
   "metadata": {},
   "outputs": [
    {
     "name": "stdout",
     "output_type": "stream",
     "text": [
      "Rp4.0 akan menjadi Rp5.352902310400001 dalam 5 tahun dengan bunga tahunan 6.0% \n"
     ]
    }
   ],
   "source": [
    "def future_value(present_value,bunga_tahunan,tahun):\n",
    "    return present_value * (1 + 0.01 * bunga_tahunan) ** tahun\n",
    "\n",
    "present_value = float(input('Masukan nilai saat ini:'))\n",
    "bunga_tahunan = float((input('Masukan bunga tahunan:')))\n",
    "tahun = int(input('Masukan waktu periode:'))\n",
    "\n",
    "print('Rp{} akan menjadi Rp{} dalam {} tahun dengan bunga tahunan {}% '.format(present_value,future_value(present_value,bunga_tahunan,tahun),tahun,bunga_tahunan))"
   ]
  },
  {
   "attachments": {},
   "cell_type": "markdown",
   "metadata": {},
   "source": [
    "Menentukan Bilangan Fibonacci dengan Fungsi Rekursif"
   ]
  },
  {
   "cell_type": "code",
   "execution_count": 7,
   "metadata": {},
   "outputs": [
    {
     "name": "stdout",
     "output_type": "stream",
     "text": [
      "Deret Fibonacci\n",
      "0 1 1 2 3 "
     ]
    }
   ],
   "source": [
    "# Rekursi Fibonacci\n",
    "'''\n",
    "Bilangan fibonacci adalah bilangan yang memiliki suku awal 0 atau 1 \n",
    "dan suku-suku berikutnya merupakan penjumlahan dari dua suku sebelumnya.\n",
    "'''\n",
    "\n",
    "def fibonacci(n):\n",
    "   if n == 0 or n == 1:\n",
    "      return n\n",
    "   else:\n",
    "      return (fibonacci(n-1) + fibonacci(n-2))\n",
    "\n",
    "x = int(input(\"Masukan Batas Deret Bilangan Fibonacci : \"))\n",
    "print(\"Deret Fibonacci\")\n",
    "for i in range(x):\n",
    "   print(fibonacci(i),end=' ')"
   ]
  }
 ],
 "metadata": {
  "kernelspec": {
   "display_name": "Python 3",
   "language": "python",
   "name": "python3"
  },
  "language_info": {
   "codemirror_mode": {
    "name": "ipython",
    "version": 3
   },
   "file_extension": ".py",
   "mimetype": "text/x-python",
   "name": "python",
   "nbconvert_exporter": "python",
   "pygments_lexer": "ipython3",
   "version": "3.11.2"
  },
  "orig_nbformat": 4,
  "vscode": {
   "interpreter": {
    "hash": "5addf786bcd861d1ce5006f23111f8cbb206731e5b61b0a5632ba9e0252558a8"
   }
  }
 },
 "nbformat": 4,
 "nbformat_minor": 2
}
